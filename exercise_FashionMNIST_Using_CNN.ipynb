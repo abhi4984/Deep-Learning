{
  "nbformat": 4,
  "nbformat_minor": 0,
  "metadata": {
    "colab": {
      "name": "exercise-FashionMNIST-Using-CNN.ipynb",
      "provenance": [],
      "collapsed_sections": []
    },
    "kernelspec": {
      "name": "python3",
      "display_name": "Python 3"
    },
    "language_info": {
      "name": "python"
    },
    "accelerator": "GPU"
  },
  "cells": [
    {
      "cell_type": "markdown",
      "source": [
        "## **Import Libraries**"
      ],
      "metadata": {
        "id": "Xqn5Q7nfpjlD"
      }
    },
    {
      "cell_type": "code",
      "execution_count": 1,
      "metadata": {
        "id": "6-FFq3Pwpcd-"
      },
      "outputs": [],
      "source": [
        "import tensorflow as tf\n",
        "from tensorflow import keras\n",
        "import matplotlib.pyplot as plt\n",
        "import numpy as np"
      ]
    },
    {
      "cell_type": "markdown",
      "source": [
        "### **LOAD-DATASET**"
      ],
      "metadata": {
        "id": "0Tfyc0rmpibG"
      }
    },
    {
      "cell_type": "code",
      "source": [
        "(x_train, y_train), (x_test, y_test) = keras.datasets.fashion_mnist.load_data()\n",
        "print(f\"Shape of Training Data : {x_train.shape}\")\n",
        "print(f\"Shape of Testing Data : {x_test.shape}\")"
      ],
      "metadata": {
        "colab": {
          "base_uri": "https://localhost:8080/"
        },
        "id": "wlnKH6DEp63f",
        "outputId": "04e0e821-16c7-43e8-b0bf-1866628730f2"
      },
      "execution_count": 2,
      "outputs": [
        {
          "output_type": "stream",
          "name": "stdout",
          "text": [
            "Downloading data from https://storage.googleapis.com/tensorflow/tf-keras-datasets/train-labels-idx1-ubyte.gz\n",
            "32768/29515 [=================================] - 0s 0us/step\n",
            "40960/29515 [=========================================] - 0s 0us/step\n",
            "Downloading data from https://storage.googleapis.com/tensorflow/tf-keras-datasets/train-images-idx3-ubyte.gz\n",
            "26427392/26421880 [==============================] - 0s 0us/step\n",
            "26435584/26421880 [==============================] - 0s 0us/step\n",
            "Downloading data from https://storage.googleapis.com/tensorflow/tf-keras-datasets/t10k-labels-idx1-ubyte.gz\n",
            "16384/5148 [===============================================================================================] - 0s 0us/step\n",
            "Downloading data from https://storage.googleapis.com/tensorflow/tf-keras-datasets/t10k-images-idx3-ubyte.gz\n",
            "4423680/4422102 [==============================] - 0s 0us/step\n",
            "4431872/4422102 [==============================] - 0s 0us/step\n",
            "Shape of Training Data : (60000, 28, 28)\n",
            "Shape of Testing Data : (10000, 28, 28)\n"
          ]
        }
      ]
    },
    {
      "cell_type": "markdown",
      "source": [
        "### **Let's try to visualise some samples**"
      ],
      "metadata": {
        "id": "DklioYF3qYv0"
      }
    },
    {
      "cell_type": "code",
      "source": [
        "plt.imshow(x_train[0])\n",
        "plt.xlabel(y_train[0])\n",
        "plt.show()"
      ],
      "metadata": {
        "colab": {
          "base_uri": "https://localhost:8080/",
          "height": 279
        },
        "id": "tzYzDGqVqW6x",
        "outputId": "0b779dfe-9fe2-407b-df98-f95e99d2150c"
      },
      "execution_count": 3,
      "outputs": [
        {
          "output_type": "display_data",
          "data": {
            "text/plain": [
              "<Figure size 432x288 with 1 Axes>"
            ],
            "image/png": "[encoded data removed]"
          },
          "metadata": {
            "needs_background": "light"
          }
        }
      ]
    },
    {
      "cell_type": "markdown",
      "source": [
        "## **Normalize the Dataset**"
      ],
      "metadata": {
        "id": "7zlz3NfwrXYE"
      }
    },
    {
      "cell_type": "code",
      "source": [
        "x_train = x_train/255\n",
        "x_test = x_test/255"
      ],
      "metadata": {
        "id": "3A-Y_mtwrUqL"
      },
      "execution_count": 4,
      "outputs": []
    },
    {
      "cell_type": "markdown",
      "source": [
        "## **Building up the Model**"
      ],
      "metadata": {
        "id": "p3IAbEKyrkNw"
      }
    },
    {
      "cell_type": "code",
      "source": [
        "# padding = valid (means no padding) by default\n",
        "# padding = same (pad such that output is same as input)"
      ],
      "metadata": {
        "id": "U-cpdmXjy0dD"
      },
      "execution_count": 7,
      "outputs": []
    },
    {
      "cell_type": "code",
      "source": [
        "# without padding\n",
        "model = keras.Sequential([\n",
        "      keras.layers.Conv2D(filters=32,kernel_size=(3,3),activation='relu',input_shape=(28,28,1)),\n",
        "      keras.layers.MaxPooling2D(pool_size=(2,2)),\n",
        "\n",
        "      keras.layers.Conv2D(filters=64,kernel_size=(3,3),activation='relu'),\n",
        "      keras.layers.MaxPooling2D(pool_size=(2,2)),\n",
        "\n",
        "      keras.layers.Flatten(),\n",
        "      keras.layers.Dense(64,activation='relu'),\n",
        "      keras.layers.Dense(10,activation='softmax')\n",
        "])\n",
        "\n",
        "model.compile(\n",
        "    optimizer='adam',\n",
        "    loss='sparse_categorical_crossentropy',\n",
        "    metrics=['accuracy']\n",
        ")\n",
        "\n",
        "model.fit(x_train,y_train,epochs=50)"
      ],
      "metadata": {
        "colab": {
          "base_uri": "https://localhost:8080/"
        },
        "id": "2fnUomCJrfti",
        "outputId": "94019e50-8eaa-4b1f-c976-686b24e86b49"
      },
      "execution_count": 5,
      "outputs": [
        {
          "output_type": "stream",
          "name": "stdout",
          "text": [
            "Epoch 1/50\n",
            "1875/1875 [==============================] - 21s 5ms/step - loss: 0.4790 - accuracy: 0.8265\n",
            "Epoch 2/50\n",
            "1875/1875 [==============================] - 10s 5ms/step - loss: 0.3280 - accuracy: 0.8806\n",
            "Epoch 3/50\n",
            "1875/1875 [==============================] - 10s 5ms/step - loss: 0.2794 - accuracy: 0.8977\n",
            "Epoch 4/50\n",
            "1875/1875 [==============================] - 10s 5ms/step - loss: 0.2476 - accuracy: 0.9087\n",
            "Epoch 5/50\n",
            "1875/1875 [==============================] - 10s 5ms/step - loss: 0.2223 - accuracy: 0.9181\n",
            "Epoch 6/50\n",
            "1875/1875 [==============================] - 10s 5ms/step - loss: 0.2009 - accuracy: 0.9254\n",
            "Epoch 7/50\n",
            "1875/1875 [==============================] - 10s 5ms/step - loss: 0.1829 - accuracy: 0.9323\n",
            "Epoch 8/50\n",
            "1875/1875 [==============================] - 10s 6ms/step - loss: 0.1669 - accuracy: 0.9383\n",
            "Epoch 9/50\n",
            "1875/1875 [==============================] - 10s 5ms/step - loss: 0.1528 - accuracy: 0.9434\n",
            "Epoch 10/50\n",
            "1875/1875 [==============================] - 10s 5ms/step - loss: 0.1404 - accuracy: 0.9477\n",
            "Epoch 11/50\n",
            "1875/1875 [==============================] - 10s 5ms/step - loss: 0.1274 - accuracy: 0.9528\n",
            "Epoch 12/50\n",
            "1875/1875 [==============================] - 10s 5ms/step - loss: 0.1156 - accuracy: 0.9568\n",
            "Epoch 13/50\n",
            "1875/1875 [==============================] - 9s 5ms/step - loss: 0.1071 - accuracy: 0.9601\n",
            "Epoch 14/50\n",
            "1875/1875 [==============================] - 9s 5ms/step - loss: 0.0976 - accuracy: 0.9635\n",
            "Epoch 15/50\n",
            "1875/1875 [==============================] - 9s 5ms/step - loss: 0.0916 - accuracy: 0.9654\n",
            "Epoch 16/50\n",
            "1875/1875 [==============================] - 9s 5ms/step - loss: 0.0835 - accuracy: 0.9686\n",
            "Epoch 17/50\n",
            "1875/1875 [==============================] - 10s 5ms/step - loss: 0.0775 - accuracy: 0.9709\n",
            "Epoch 18/50\n",
            "1875/1875 [==============================] - 9s 5ms/step - loss: 0.0716 - accuracy: 0.9739\n",
            "Epoch 19/50\n",
            "1875/1875 [==============================] - 10s 5ms/step - loss: 0.0647 - accuracy: 0.9756\n",
            "Epoch 20/50\n",
            "1875/1875 [==============================] - 10s 5ms/step - loss: 0.0601 - accuracy: 0.9769\n",
            "Epoch 21/50\n",
            "1875/1875 [==============================] - 10s 5ms/step - loss: 0.0587 - accuracy: 0.9778\n",
            "Epoch 22/50\n",
            "1875/1875 [==============================] - 10s 5ms/step - loss: 0.0522 - accuracy: 0.9800\n",
            "Epoch 23/50\n",
            "1875/1875 [==============================] - 10s 5ms/step - loss: 0.0489 - accuracy: 0.9818\n",
            "Epoch 24/50\n",
            "1875/1875 [==============================] - 10s 5ms/step - loss: 0.0462 - accuracy: 0.9826\n",
            "Epoch 25/50\n",
            "1875/1875 [==============================] - 10s 5ms/step - loss: 0.0436 - accuracy: 0.9840\n",
            "Epoch 26/50\n",
            "1875/1875 [==============================] - 10s 5ms/step - loss: 0.0422 - accuracy: 0.9848\n",
            "Epoch 27/50\n",
            "1875/1875 [==============================] - 9s 5ms/step - loss: 0.0400 - accuracy: 0.9854\n",
            "Epoch 28/50\n",
            "1875/1875 [==============================] - 10s 5ms/step - loss: 0.0371 - accuracy: 0.9868\n",
            "Epoch 29/50\n",
            "1875/1875 [==============================] - 9s 5ms/step - loss: 0.0386 - accuracy: 0.9864\n",
            "Epoch 30/50\n",
            "1875/1875 [==============================] - 10s 5ms/step - loss: 0.0323 - accuracy: 0.9879\n",
            "Epoch 31/50\n",
            "1875/1875 [==============================] - 10s 5ms/step - loss: 0.0353 - accuracy: 0.9869\n",
            "Epoch 32/50\n",
            "1875/1875 [==============================] - 10s 5ms/step - loss: 0.0330 - accuracy: 0.9878\n",
            "Epoch 33/50\n",
            "1875/1875 [==============================] - 9s 5ms/step - loss: 0.0309 - accuracy: 0.9888\n",
            "Epoch 34/50\n",
            "1875/1875 [==============================] - 10s 5ms/step - loss: 0.0312 - accuracy: 0.9887\n",
            "Epoch 35/50\n",
            "1875/1875 [==============================] - 10s 5ms/step - loss: 0.0268 - accuracy: 0.9903\n",
            "Epoch 36/50\n",
            "1875/1875 [==============================] - 9s 5ms/step - loss: 0.0320 - accuracy: 0.9889\n",
            "Epoch 37/50\n",
            "1875/1875 [==============================] - 10s 5ms/step - loss: 0.0289 - accuracy: 0.9899\n",
            "Epoch 38/50\n",
            "1875/1875 [==============================] - 10s 5ms/step - loss: 0.0272 - accuracy: 0.9900\n",
            "Epoch 39/50\n",
            "1875/1875 [==============================] - 10s 5ms/step - loss: 0.0255 - accuracy: 0.9914\n",
            "Epoch 40/50\n",
            "1875/1875 [==============================] - 10s 5ms/step - loss: 0.0272 - accuracy: 0.9906\n",
            "Epoch 41/50\n",
            "1875/1875 [==============================] - 10s 5ms/step - loss: 0.0241 - accuracy: 0.9915\n",
            "Epoch 42/50\n",
            "1875/1875 [==============================] - 10s 5ms/step - loss: 0.0267 - accuracy: 0.9911\n",
            "Epoch 43/50\n",
            "1875/1875 [==============================] - 10s 5ms/step - loss: 0.0246 - accuracy: 0.9912\n",
            "Epoch 44/50\n",
            "1875/1875 [==============================] - 10s 5ms/step - loss: 0.0256 - accuracy: 0.9915\n",
            "Epoch 45/50\n",
            "1875/1875 [==============================] - 10s 5ms/step - loss: 0.0198 - accuracy: 0.9929\n",
            "Epoch 46/50\n",
            "1875/1875 [==============================] - 10s 5ms/step - loss: 0.0255 - accuracy: 0.9910\n",
            "Epoch 47/50\n",
            "1875/1875 [==============================] - 10s 5ms/step - loss: 0.0236 - accuracy: 0.9915\n",
            "Epoch 48/50\n",
            "1875/1875 [==============================] - 10s 5ms/step - loss: 0.0203 - accuracy: 0.9930\n",
            "Epoch 49/50\n",
            "1875/1875 [==============================] - 10s 5ms/step - loss: 0.0234 - accuracy: 0.9920\n",
            "Epoch 50/50\n",
            "1875/1875 [==============================] - 10s 5ms/step - loss: 0.0231 - accuracy: 0.9918\n"
          ]
        },
        {
          "output_type": "execute_result",
          "data": {
            "text/plain": [
              "<keras.callbacks.History at 0x7fd63010fd10>"
            ]
          },
          "metadata": {},
          "execution_count": 5
        }
      ]
    },
    {
      "cell_type": "markdown",
      "source": [
        "##### Checking the Accuracy of the model"
      ],
      "metadata": {
        "id": "Z9YnVDeluT1L"
      }
    },
    {
      "cell_type": "code",
      "source": [
        "model.evaluate(x_test,y_test)"
      ],
      "metadata": {
        "colab": {
          "base_uri": "https://localhost:8080/"
        },
        "id": "zjXjYlEvtfjc",
        "outputId": "d9319680-3d7e-43ed-fe49-1ade6c4c702e"
      },
      "execution_count": 6,
      "outputs": [
        {
          "output_type": "stream",
          "name": "stdout",
          "text": [
            "313/313 [==============================] - 1s 4ms/step - loss: 0.9792 - accuracy: 0.8976\n"
          ]
        },
        {
          "output_type": "execute_result",
          "data": {
            "text/plain": [
              "[0.9791805744171143, 0.897599995136261]"
            ]
          },
          "metadata": {},
          "execution_count": 6
        }
      ]
    },
    {
      "cell_type": "code",
      "source": [
        "# With padding\n",
        "model1 = keras.Sequential([\n",
        "      keras.layers.Conv2D(filters=32,kernel_size=(3,3),activation='relu',padding='same',input_shape=(28,28,1)),\n",
        "      keras.layers.MaxPooling2D(pool_size=(2,2)),\n",
        "\n",
        "      keras.layers.Conv2D(filters=64,kernel_size=(3,3),padding='same',activation='relu'),\n",
        "      keras.layers.MaxPooling2D(pool_size=(2,2)),\n",
        "\n",
        "      keras.layers.Flatten(),\n",
        "      keras.layers.Dense(64,activation='relu'),\n",
        "      keras.layers.Dense(10,activation='softmax')\n",
        "])\n",
        "\n",
        "model1.compile(\n",
        "    optimizer='adam',\n",
        "    loss='sparse_categorical_crossentropy',\n",
        "    metrics=['accuracy']\n",
        ")\n",
        "\n",
        "model1.fit(x_train,y_train,epochs=10)"
      ],
      "metadata": {
        "colab": {
          "base_uri": "https://localhost:8080/"
        },
        "id": "Qxes3m2PuR-k",
        "outputId": "8e7ffbb8-0bed-4787-ce51-da969feebe25"
      },
      "execution_count": 8,
      "outputs": [
        {
          "output_type": "stream",
          "name": "stdout",
          "text": [
            "Epoch 1/10\n",
            "1875/1875 [==============================] - 12s 6ms/step - loss: 0.4109 - accuracy: 0.8522\n",
            "Epoch 2/10\n",
            "1875/1875 [==============================] - 11s 6ms/step - loss: 0.2704 - accuracy: 0.9026\n",
            "Epoch 3/10\n",
            "1875/1875 [==============================] - 12s 6ms/step - loss: 0.2264 - accuracy: 0.9168\n",
            "Epoch 4/10\n",
            "1875/1875 [==============================] - 11s 6ms/step - loss: 0.1957 - accuracy: 0.9286\n",
            "Epoch 5/10\n",
            "1875/1875 [==============================] - 11s 6ms/step - loss: 0.1719 - accuracy: 0.9358\n",
            "Epoch 6/10\n",
            "1875/1875 [==============================] - 11s 6ms/step - loss: 0.1486 - accuracy: 0.9442\n",
            "Epoch 7/10\n",
            "1875/1875 [==============================] - 11s 6ms/step - loss: 0.1304 - accuracy: 0.9517\n",
            "Epoch 8/10\n",
            "1875/1875 [==============================] - 11s 6ms/step - loss: 0.1136 - accuracy: 0.9577\n",
            "Epoch 9/10\n",
            "1875/1875 [==============================] - 11s 6ms/step - loss: 0.0981 - accuracy: 0.9637\n",
            "Epoch 10/10\n",
            "1875/1875 [==============================] - 11s 6ms/step - loss: 0.0863 - accuracy: 0.9682\n"
          ]
        },
        {
          "output_type": "execute_result",
          "data": {
            "text/plain": [
              "<keras.callbacks.History at 0x7fd5c8152790>"
            ]
          },
          "metadata": {},
          "execution_count": 8
        }
      ]
    },
    {
      "cell_type": "code",
      "source": [
        "model1.evaluate(x_test,y_test)"
      ],
      "metadata": {
        "colab": {
          "base_uri": "https://localhost:8080/"
        },
        "id": "JU44I3ZMzaPx",
        "outputId": "a922937a-ba1a-4ba5-9420-2dc807f47932"
      },
      "execution_count": 9,
      "outputs": [
        {
          "output_type": "stream",
          "name": "stdout",
          "text": [
            "313/313 [==============================] - 1s 4ms/step - loss: 0.2659 - accuracy: 0.9196\n"
          ]
        },
        {
          "output_type": "execute_result",
          "data": {
            "text/plain": [
              "[0.2659291625022888, 0.9196000099182129]"
            ]
          },
          "metadata": {},
          "execution_count": 9
        }
      ]
    },
    {
      "cell_type": "markdown",
      "source": [
        "## **CLassification Report**"
      ],
      "metadata": {
        "id": "ybqpBhHT01ka"
      }
    },
    {
      "cell_type": "code",
      "source": [
        "from sklearn.metrics import classification_report\n",
        "\n",
        "y_pred = model1.predict(x_test)\n",
        "y_classes = [np.argmax(element) for element in y_pred]\n",
        "print(classification_report(y_test,y_classes))"
      ],
      "metadata": {
        "colab": {
          "base_uri": "https://localhost:8080/"
        },
        "id": "J9F_ToDMz6jl",
        "outputId": "c1a220e4-44e2-4abe-fe69-d79eae691eed"
      },
      "execution_count": 10,
      "outputs": [
        {
          "output_type": "stream",
          "name": "stdout",
          "text": [
            "              precision    recall  f1-score   support\n",
            "\n",
            "           0       0.86      0.87      0.87      1000\n",
            "           1       0.99      0.99      0.99      1000\n",
            "           2       0.85      0.89      0.87      1000\n",
            "           3       0.91      0.92      0.92      1000\n",
            "           4       0.87      0.88      0.88      1000\n",
            "           5       0.99      0.97      0.98      1000\n",
            "           6       0.81      0.74      0.77      1000\n",
            "           7       0.94      0.99      0.96      1000\n",
            "           8       0.99      0.98      0.98      1000\n",
            "           9       0.99      0.96      0.97      1000\n",
            "\n",
            "    accuracy                           0.92     10000\n",
            "   macro avg       0.92      0.92      0.92     10000\n",
            "weighted avg       0.92      0.92      0.92     10000\n",
            "\n"
          ]
        }
      ]
    },
    {
      "cell_type": "code",
      "source": [
        "y_classes[:10]"
      ],
      "metadata": {
        "colab": {
          "base_uri": "https://localhost:8080/"
        },
        "id": "gbB3b54x0tL6",
        "outputId": "5a6e3e0f-e67a-4d5a-92b1-6d9f4b923ded"
      },
      "execution_count": 11,
      "outputs": [
        {
          "output_type": "execute_result",
          "data": {
            "text/plain": [
              "[9, 2, 1, 1, 6, 1, 4, 6, 5, 7]"
            ]
          },
          "metadata": {},
          "execution_count": 11
        }
      ]
    },
    {
      "cell_type": "code",
      "source": [
        "y_test[:10]"
      ],
      "metadata": {
        "colab": {
          "base_uri": "https://localhost:8080/"
        },
        "id": "dBpxKWT-0v1X",
        "outputId": "2911f921-292c-4f85-f324-ea81c5475a2a"
      },
      "execution_count": 12,
      "outputs": [
        {
          "output_type": "execute_result",
          "data": {
            "text/plain": [
              "array([9, 2, 1, 1, 6, 1, 4, 6, 5, 7], dtype=uint8)"
            ]
          },
          "metadata": {},
          "execution_count": 12
        }
      ]
    },
    {
      "cell_type": "code",
      "source": [
        ""
      ],
      "metadata": {
        "id": "f-hbocl20xGD"
      },
      "execution_count": null,
      "outputs": []
    }
  ]
}